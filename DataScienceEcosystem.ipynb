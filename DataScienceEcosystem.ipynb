{
 "cells": [
  {
   "cell_type": "markdown",
   "id": "d31c7848",
   "metadata": {},
   "source": [
    "# Data Science Tools and Ecosystem"
   ]
  },
  {
   "cell_type": "markdown",
   "id": "cc0650a0",
   "metadata": {},
   "source": [
    "### This notebook contains a breif description of Data Science Tools and its Ecosystem."
   ]
  },
  {
   "cell_type": "markdown",
   "id": "b6951f51",
   "metadata": {},
   "source": [
    "**Objectives**\n",
    "- Popular languages of Data Science.\n",
    "- Common libraries of Data Science.\n",
    "- Three Development environment of Data Science. \n",
    "- Examples of arithmetic operations. "
   ]
  },
  {
   "cell_type": "markdown",
   "id": "64e82b4f",
   "metadata": {},
   "source": [
    "#### Some of the popular lanuages that Data Scientists use are:\n",
    "1. Python.\n",
    "2. R.\n",
    "3. SQL.\n",
    "4. Java.\n",
    "5. C++.\n",
    "6. Scala.\n",
    "7. JavaScript.\n",
    "8. Julia.\n"
   ]
  },
  {
   "cell_type": "markdown",
   "id": "803d3d2b",
   "metadata": {},
   "source": [
    "#### Some of the commonly used libraries used by Data Scientists include: \n",
    "1. Python\n",
    "    1. Pandas\n",
    "    2. NumPy\n",
    "    3. SciPy\n",
    "    4. Matplotlib\n",
    "    5. Scikit-learn\n",
    "    6. TensorFlow\n",
    "2. R\n",
    "    1. ggplot\n",
    "    2. dplyr\n",
    "    3. Caret"
   ]
  },
  {
   "cell_type": "markdown",
   "id": "e143ac26",
   "metadata": {},
   "source": [
    "| Data Science Tools  |\n",
    "|---------------------|\n",
    "|  JupyterLab  |\n",
    "|  JupyterLite  |\n",
    "| VS Code |\n",
    "| R Studio|\n",
    "| Google Colaboratory|\n"
   ]
  },
  {
   "cell_type": "markdown",
   "id": "db4d4bc3",
   "metadata": {},
   "source": [
    "### Below are a few examples of evaluating arithmetic expressions in Python."
   ]
  },
  {
   "cell_type": "markdown",
   "id": "f0e0c934",
   "metadata": {},
   "source": [
    "#### This a simple arithmetic expression to mutiply then add integers."
   ]
  },
  {
   "cell_type": "code",
   "execution_count": 5,
   "id": "e387665e",
   "metadata": {},
   "outputs": [
    {
     "data": {
      "text/plain": [
       "17"
      ]
     },
     "execution_count": 5,
     "metadata": {},
     "output_type": "execute_result"
    }
   ],
   "source": [
    "(3*4)+5"
   ]
  },
  {
   "cell_type": "markdown",
   "id": "47289664",
   "metadata": {},
   "source": [
    "#### This following expression will convert 200 minutes to hours by diving by 60"
   ]
  },
  {
   "cell_type": "code",
   "execution_count": 6,
   "id": "a352028e",
   "metadata": {},
   "outputs": [
    {
     "data": {
      "text/plain": [
       "3.3333333333333335"
      ]
     },
     "execution_count": 6,
     "metadata": {},
     "output_type": "execute_result"
    }
   ],
   "source": [
    "200/60"
   ]
  },
  {
   "cell_type": "markdown",
   "id": "2edb19d4",
   "metadata": {},
   "source": [
    "## Author\n",
    "Ruby Sharma"
   ]
  },
  {
   "cell_type": "code",
   "execution_count": null,
   "id": "1f418477",
   "metadata": {},
   "outputs": [],
   "source": []
  }
 ],
 "metadata": {
  "kernelspec": {
   "display_name": "Python 3 (ipykernel)",
   "language": "python",
   "name": "python3"
  },
  "language_info": {
   "codemirror_mode": {
    "name": "ipython",
    "version": 3
   },
   "file_extension": ".py",
   "mimetype": "text/x-python",
   "name": "python",
   "nbconvert_exporter": "python",
   "pygments_lexer": "ipython3",
   "version": "3.9.7"
  }
 },
 "nbformat": 4,
 "nbformat_minor": 5
}
